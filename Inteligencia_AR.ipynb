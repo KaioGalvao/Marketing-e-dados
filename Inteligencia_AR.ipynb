{
  "nbformat": 4,
  "nbformat_minor": 0,
  "metadata": {
    "colab": {
      "name": "Inteligência Artificial na prática para iniciantes.ipynb",
      "provenance": [],
      "collapsed_sections": []
    },
    "kernelspec": {
      "name": "python3",
      "display_name": "Python 3"
    },
    "language_info": {
      "name": "python"
    }
  },
  "cells": [
    {
      "cell_type": "markdown",
      "metadata": {
        "id": "qrhyB4uWNwvt"
      },
      "source": [
        "# Etapa 1 - Entendimento do Problema \n",
        "\n",
        "## Melhorar a conversão de vendas a partir da análise de campanhas realizadas no Facebook. "
      ]
    },
    {
      "cell_type": "markdown",
      "metadata": {
        "id": "l5qDGQ3eN13Z"
      },
      "source": [
        "# Etapa 2: Coleta de Dados\n",
        "\n",
        "#### Você pode baixar esse conjunto de dados no site: https://www.kaggle.com/loveall/clicks-conversion-tracking"
      ]
    },
    {
      "cell_type": "markdown",
      "metadata": {
        "id": "mmftZH0VN45D"
      },
      "source": [
        "# Etapa 3: Análise, Interpretação e Visualização dos Dados\n"
      ]
    },
    {
      "cell_type": "markdown",
      "metadata": {
        "id": "OpnFSbnQN7Xh"
      },
      "source": [
        "#### Importando as bibliotecas"
      ]
    },
    {
      "cell_type": "code",
      "metadata": {
        "id": "qgqyrshnNzES"
      },
      "source": [
        "#Manipulação dos dados\n",
        "import pandas as pd\n",
        "\n",
        "#Visualização\n",
        "\n",
        "#Machine Learning"
      ],
      "execution_count": null,
      "outputs": []
    },
    {
      "cell_type": "markdown",
      "metadata": {
        "id": "rlsHyd4YOHn-"
      },
      "source": [
        "#### Carregando os dados"
      ]
    },
    {
      "cell_type": "code",
      "metadata": {
        "id": "8cb0OOJHOIOz"
      },
      "source": [
        "df = pd.read_csv(\"KAG_conversion_data.csv\")"
      ],
      "execution_count": null,
      "outputs": []
    },
    {
      "cell_type": "code",
      "metadata": {
        "id": "yUMAUM-YMyJL"
      },
      "source": [
        "type(df)"
      ],
      "execution_count": null,
      "outputs": []
    },
    {
      "cell_type": "markdown",
      "metadata": {
        "id": "eyUXcKq1OLJL"
      },
      "source": [
        "#### Primeira Inspeção"
      ]
    },
    {
      "cell_type": "code",
      "metadata": {
        "id": "iP7NFHG9OQ66"
      },
      "source": [
        "df.head() #Lista por default as 5 primeiras linhas"
      ],
      "execution_count": null,
      "outputs": []
    },
    {
      "cell_type": "code",
      "metadata": {
        "id": "sZsNNI-NTYf0"
      },
      "source": [
        "df.tail()"
      ],
      "execution_count": null,
      "outputs": []
    },
    {
      "cell_type": "code",
      "metadata": {
        "id": "uH4Tu7_aTmyb"
      },
      "source": [
        "df.columns"
      ],
      "execution_count": null,
      "outputs": []
    },
    {
      "cell_type": "code",
      "metadata": {
        "id": "VQ8BdJ8XT7lL"
      },
      "source": [
        "df.index"
      ],
      "execution_count": null,
      "outputs": []
    },
    {
      "cell_type": "code",
      "metadata": {
        "id": "GWcmgIN5UGIE"
      },
      "source": [
        "df.shape"
      ],
      "execution_count": null,
      "outputs": []
    },
    {
      "cell_type": "code",
      "metadata": {
        "id": "KospT-dyUY6k"
      },
      "source": [
        "linhas, colunas = df.shape"
      ],
      "execution_count": null,
      "outputs": []
    },
    {
      "cell_type": "code",
      "metadata": {
        "id": "CjXqwswvUlX0"
      },
      "source": [
        "print(f\"O número de linhas e {linhas}\")"
      ],
      "execution_count": null,
      "outputs": []
    },
    {
      "cell_type": "code",
      "metadata": {
        "id": "-0c0F-ImUrIH"
      },
      "source": [
        "type(df)"
      ],
      "execution_count": null,
      "outputs": []
    },
    {
      "cell_type": "code",
      "metadata": {
        "id": "uC_nhI5DU351"
      },
      "source": [
        "ser_interest = df[\"interest\"]"
      ],
      "execution_count": null,
      "outputs": []
    },
    {
      "cell_type": "code",
      "metadata": {
        "id": "R7wBfxBhVGs6"
      },
      "source": [
        "type(ser_interest)"
      ],
      "execution_count": null,
      "outputs": []
    },
    {
      "cell_type": "code",
      "metadata": {
        "id": "nQii5MXEVPbU"
      },
      "source": [
        "df.info()"
      ],
      "execution_count": null,
      "outputs": []
    },
    {
      "cell_type": "markdown",
      "metadata": {
        "id": "9m2Irch_X5At"
      },
      "source": [
        "#### Dicionário dos dados\n",
        "\n",
        "\n",
        "\n",
        "1.   ad_id - ID único para cada anúncio\n",
        "2.   xyzcampaignid - ID associado a cada campanha publicitária da empresa XYZ\n",
        "3.   fbcampaignid - ID associado a como o Facebook rastreia cada campanha.\n",
        "4.   age - idade da pessoa a quem o anúncio é mostrado.\n",
        "5.   gender - sexo da pessoa que deseja que o anúncio seja mostrado\n",
        "6.   interest - código que especifica a categoria à qual pertence o interesse da pessoa (os interesses são mencionados no perfil público da pessoa no Facebook)\n",
        "7.   Impression - o número de vezes que o anúncio foi mostrado.\n",
        "8.   Clicks - número de cliques nesse anúncio.\n",
        "9.   Spent - Valor pago pela empresa xyz ao Facebook, para exibir aquele anúncio.\n",
        "10.  Total conversion - Número total de pessoas que fizeram perguntas sobre o produto depois de ver o anúncio.\n",
        "11.  Approved conversion - Número total de pessoas que compraram o produto depois de ver o anúncio."
      ]
    },
    {
      "cell_type": "code",
      "metadata": {
        "id": "po3h-nHbVbjm"
      },
      "source": [
        ""
      ],
      "execution_count": null,
      "outputs": []
    }
  ]
}